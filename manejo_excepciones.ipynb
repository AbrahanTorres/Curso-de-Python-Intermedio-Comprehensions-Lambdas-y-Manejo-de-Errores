{
 "cells": [
  {
   "cell_type": "markdown",
   "metadata": {},
   "source": [
    "Ejemplo cuando python nos muestra una excepción en pantalla.\n",
    "Este programa imprime la función palindrome, pero tiene un número 1, algo para la cual no está diseñado el programa. El traceback nos indica el tipo de excepción de error, TypeError. Nos indica el archivo, la línea donde se encuentra el error, si seguimos leyendo el traceback, nos muestra que específicamente sucede el error cuando llamamos a la función palindrome con el número 1."
   ]
  },
  {
   "cell_type": "code",
   "execution_count": 1,
   "metadata": {},
   "outputs": [
    {
     "ename": "TypeError",
     "evalue": "'int' object is not subscriptable",
     "output_type": "error",
     "traceback": [
      "\u001b[0;31m---------------------------------------------------------------------------\u001b[0m",
      "\u001b[0;31mTypeError\u001b[0m                                 Traceback (most recent call last)",
      "\u001b[1;32m/home/abraham/curso_python_intermedio_comprehensions_lambdas_Y_manejodeErrores/proyecto_ejemplo/manejo_excepciones.ipynb Cell 1'\u001b[0m in \u001b[0;36m<cell line: 4>\u001b[0;34m()\u001b[0m\n\u001b[1;32m      <a href='vscode-notebook-cell://wsl%2Bubuntu20.04lts/home/abraham/curso_python_intermedio_comprehensions_lambdas_Y_manejodeErrores/proyecto_ejemplo/manejo_excepciones.ipynb#ch0000000vscode-remote?line=0'>1</a>\u001b[0m \u001b[39mdef\u001b[39;00m \u001b[39mpailindrome\u001b[39m(string):\n\u001b[1;32m      <a href='vscode-notebook-cell://wsl%2Bubuntu20.04lts/home/abraham/curso_python_intermedio_comprehensions_lambdas_Y_manejodeErrores/proyecto_ejemplo/manejo_excepciones.ipynb#ch0000000vscode-remote?line=1'>2</a>\u001b[0m     \u001b[39mreturn\u001b[39;00m string \u001b[39m==\u001b[39m string[::\u001b[39m-\u001b[39m\u001b[39m1\u001b[39m]\n\u001b[0;32m----> <a href='vscode-notebook-cell://wsl%2Bubuntu20.04lts/home/abraham/curso_python_intermedio_comprehensions_lambdas_Y_manejodeErrores/proyecto_ejemplo/manejo_excepciones.ipynb#ch0000000vscode-remote?line=3'>4</a>\u001b[0m \u001b[39mprint\u001b[39m(pailindrome(\u001b[39m1\u001b[39;49m))\n",
      "\u001b[1;32m/home/abraham/curso_python_intermedio_comprehensions_lambdas_Y_manejodeErrores/proyecto_ejemplo/manejo_excepciones.ipynb Cell 1'\u001b[0m in \u001b[0;36mpailindrome\u001b[0;34m(string)\u001b[0m\n\u001b[1;32m      <a href='vscode-notebook-cell://wsl%2Bubuntu20.04lts/home/abraham/curso_python_intermedio_comprehensions_lambdas_Y_manejodeErrores/proyecto_ejemplo/manejo_excepciones.ipynb#ch0000000vscode-remote?line=0'>1</a>\u001b[0m \u001b[39mdef\u001b[39;00m \u001b[39mpailindrome\u001b[39m(string):\n\u001b[0;32m----> <a href='vscode-notebook-cell://wsl%2Bubuntu20.04lts/home/abraham/curso_python_intermedio_comprehensions_lambdas_Y_manejodeErrores/proyecto_ejemplo/manejo_excepciones.ipynb#ch0000000vscode-remote?line=1'>2</a>\u001b[0m     \u001b[39mreturn\u001b[39;00m string \u001b[39m==\u001b[39m string[::\u001b[39m-\u001b[39;49m\u001b[39m1\u001b[39;49m]\n",
      "\u001b[0;31mTypeError\u001b[0m: 'int' object is not subscriptable"
     ]
    }
   ],
   "source": [
    "def pailindrome(string):\n",
    "    return string == string[::-1]\n",
    "\n",
    "print(pailindrome(1))"
   ]
  },
  {
   "cell_type": "markdown",
   "metadata": {},
   "source": [
    "Para evitarlo podemos usar Try y except:\n",
    "\n",
    "El except es únicamente para los tipos de error TypeError."
   ]
  },
  {
   "cell_type": "code",
   "execution_count": 2,
   "metadata": {},
   "outputs": [
    {
     "name": "stdout",
     "output_type": "stream",
     "text": [
      "Solo se puede ingresar strings\n"
     ]
    }
   ],
   "source": [
    "def pailindrome(string):\n",
    "    return string == string[::-1]\n",
    "\n",
    "try:\n",
    "    print(pailindrome(1))\n",
    "except TypeError:\n",
    "    print(\"Solo se puede ingresar strings\")"
   ]
  },
  {
   "cell_type": "markdown",
   "metadata": {},
   "source": [
    "Ahora tenemos otro ejemplo, donde el usuario ingresa una cadena vacía entre comillas \" \", esto también puede generar un error, sin embargo python ve la cadena vacía como un palindrome normal, dado que la cadena vacía al revés es igual."
   ]
  },
  {
   "cell_type": "code",
   "execution_count": null,
   "metadata": {},
   "outputs": [],
   "source": [
    "def pailindrome(string):\n",
    "    return string == string[::-1]\n",
    "\n",
    "try:\n",
    "    print(pailindrome(\" \"))\n",
    "except TypeError:\n",
    "    print(\"Solo se puede ingresar strings\")"
   ]
  },
  {
   "cell_type": "markdown",
   "metadata": {},
   "source": [
    "Para evitar este problema podemos usar \"raise\", arriba en la definición de la función tenemos un nuevo \"try\" que nos indica que si la longitud del string es cero, es decir es una cadena vacía, vamos a elevar un error de excepción de tipo ValueError, nosotros le vamos a pasar el mensaje de error que esperamos que python nos devuelta. Si esto no sucede y la longitud del string es mayor a cero, retornamos el resultado de la expresión string == string.\n",
    "Si sucede un ValueError, nosotros vamos a ejecutar print Ve, \"Ve\" es una abreviatura de ValueError, se puede leer la línea, excepto que suceda un Value Error al que le vamos a poner de nombre ve, vamos a imprimir ve. Y cual es el mensaje de error que se va a ejecutar? el que asignamos con raise ValueError \"No se puede ingresar una cadena vacía\"."
   ]
  },
  {
   "cell_type": "code",
   "execution_count": 3,
   "metadata": {},
   "outputs": [
    {
     "name": "stdout",
     "output_type": "stream",
     "text": [
      "True\n"
     ]
    }
   ],
   "source": [
    "def pailindrome(string):\n",
    "    try:\n",
    "        if len(string) == 0:\n",
    "            raise ValueError(\"No se puede ingresar una cadena vacía\")\n",
    "        return string == string[::-1]\n",
    "    except ValueError as ve:\n",
    "        print(ve)\n",
    "        return False\n",
    "try:\n",
    "    print(pailindrome(\" \"))\n",
    "except TypeError:\n",
    "    print(\"Solo se puede ingresar strings\")"
   ]
  },
  {
   "cell_type": "markdown",
   "metadata": {},
   "source": [
    "Tenemos otra palabra clave llamada \"finally\", sirve para cerrar un archivo, cerrar una conexión de base de datos, o liberar recursos externos, generalmente no se usa. En este ejemplo se abre un archivo, y con la función finally close, cierra el archivo. Puede ser que nuestro programa tiene algo mal y si lo cerramos sin finally close puede dañar el archivo, en cambio si lo usamos, permite cerrarlo de la manera correcta."
   ]
  },
  {
   "cell_type": "code",
   "execution_count": 4,
   "metadata": {},
   "outputs": [
    {
     "ename": "NameError",
     "evalue": "name 'f' is not defined",
     "output_type": "error",
     "traceback": [
      "\u001b[0;31m---------------------------------------------------------------------------\u001b[0m",
      "\u001b[0;31mFileNotFoundError\u001b[0m                         Traceback (most recent call last)",
      "\u001b[1;32m/home/abraham/curso_python_intermedio_comprehensions_lambdas_Y_manejodeErrores/proyecto_ejemplo/manejo_excepciones.ipynb Cell 10'\u001b[0m in \u001b[0;36m<cell line: 1>\u001b[0;34m()\u001b[0m\n\u001b[1;32m      <a href='vscode-notebook-cell://wsl%2Bubuntu20.04lts/home/abraham/curso_python_intermedio_comprehensions_lambdas_Y_manejodeErrores/proyecto_ejemplo/manejo_excepciones.ipynb#ch0000010vscode-remote?line=0'>1</a>\u001b[0m \u001b[39mtry\u001b[39;00m:\n\u001b[0;32m----> <a href='vscode-notebook-cell://wsl%2Bubuntu20.04lts/home/abraham/curso_python_intermedio_comprehensions_lambdas_Y_manejodeErrores/proyecto_ejemplo/manejo_excepciones.ipynb#ch0000010vscode-remote?line=1'>2</a>\u001b[0m     f \u001b[39m=\u001b[39m \u001b[39mopen\u001b[39;49m(\u001b[39m\"\u001b[39;49m\u001b[39marchivo.txt\u001b[39;49m\u001b[39m\"\u001b[39;49m)\n\u001b[1;32m      <a href='vscode-notebook-cell://wsl%2Bubuntu20.04lts/home/abraham/curso_python_intermedio_comprehensions_lambdas_Y_manejodeErrores/proyecto_ejemplo/manejo_excepciones.ipynb#ch0000010vscode-remote?line=2'>3</a>\u001b[0m     \u001b[39m# hacer cualquier cosa con nuestro archivo\u001b[39;00m\n\u001b[1;32m      <a href='vscode-notebook-cell://wsl%2Bubuntu20.04lts/home/abraham/curso_python_intermedio_comprehensions_lambdas_Y_manejodeErrores/proyecto_ejemplo/manejo_excepciones.ipynb#ch0000010vscode-remote?line=3'>4</a>\u001b[0m \u001b[39mfinally\u001b[39;00m:\n",
      "\u001b[0;31mFileNotFoundError\u001b[0m: [Errno 2] No such file or directory: 'archivo.txt'",
      "\nDuring handling of the above exception, another exception occurred:\n",
      "\u001b[0;31mNameError\u001b[0m                                 Traceback (most recent call last)",
      "\u001b[1;32m/home/abraham/curso_python_intermedio_comprehensions_lambdas_Y_manejodeErrores/proyecto_ejemplo/manejo_excepciones.ipynb Cell 10'\u001b[0m in \u001b[0;36m<cell line: 1>\u001b[0;34m()\u001b[0m\n\u001b[1;32m      <a href='vscode-notebook-cell://wsl%2Bubuntu20.04lts/home/abraham/curso_python_intermedio_comprehensions_lambdas_Y_manejodeErrores/proyecto_ejemplo/manejo_excepciones.ipynb#ch0000010vscode-remote?line=1'>2</a>\u001b[0m     f \u001b[39m=\u001b[39m \u001b[39mopen\u001b[39m(\u001b[39m\"\u001b[39m\u001b[39marchivo.txt\u001b[39m\u001b[39m\"\u001b[39m)\n\u001b[1;32m      <a href='vscode-notebook-cell://wsl%2Bubuntu20.04lts/home/abraham/curso_python_intermedio_comprehensions_lambdas_Y_manejodeErrores/proyecto_ejemplo/manejo_excepciones.ipynb#ch0000010vscode-remote?line=2'>3</a>\u001b[0m     \u001b[39m# hacer cualquier cosa con nuestro archivo\u001b[39;00m\n\u001b[1;32m      <a href='vscode-notebook-cell://wsl%2Bubuntu20.04lts/home/abraham/curso_python_intermedio_comprehensions_lambdas_Y_manejodeErrores/proyecto_ejemplo/manejo_excepciones.ipynb#ch0000010vscode-remote?line=3'>4</a>\u001b[0m \u001b[39mfinally\u001b[39;00m:\n\u001b[0;32m----> <a href='vscode-notebook-cell://wsl%2Bubuntu20.04lts/home/abraham/curso_python_intermedio_comprehensions_lambdas_Y_manejodeErrores/proyecto_ejemplo/manejo_excepciones.ipynb#ch0000010vscode-remote?line=4'>5</a>\u001b[0m     f\u001b[39m.\u001b[39mclose()\n",
      "\u001b[0;31mNameError\u001b[0m: name 'f' is not defined"
     ]
    }
   ],
   "source": [
    "try:\n",
    "    f = open(\"archivo.txt\")\n",
    "    # hacer cualquier cosa con nuestro archivo\n",
    "finally:\n",
    "    f.close()"
   ]
  }
 ],
 "metadata": {
  "interpreter": {
   "hash": "1450c17c8c66d4d397d2acdd3c16d6e724a90b71f7743ddf11f0edda92b67585"
  },
  "kernelspec": {
   "display_name": "Python 3.9.12 ('myenv': conda)",
   "language": "python",
   "name": "python3"
  },
  "language_info": {
   "codemirror_mode": {
    "name": "ipython",
    "version": 3
   },
   "file_extension": ".py",
   "mimetype": "text/x-python",
   "name": "python",
   "nbconvert_exporter": "python",
   "pygments_lexer": "ipython3",
   "version": "3.9.12"
  },
  "orig_nbformat": 4
 },
 "nbformat": 4,
 "nbformat_minor": 2
}
