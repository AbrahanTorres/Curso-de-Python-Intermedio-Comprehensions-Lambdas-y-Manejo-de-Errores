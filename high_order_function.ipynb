{
 "cells": [
  {
   "cell_type": "markdown",
   "metadata": {},
   "source": [
    "Función de orden superior: es una función que recibe como parametro a otra función existe: filter, map y reduce."
   ]
  },
  {
   "cell_type": "code",
   "execution_count": 1,
   "metadata": {},
   "outputs": [
    {
     "name": "stdout",
     "output_type": "stream",
     "text": [
      "Hola\n",
      "Adios\n"
     ]
    }
   ],
   "source": [
    "def saludo(func):  #función saludo, que es nuestra función de orden superior  que recibe como parámetro otra función.\n",
    "    func()\n",
    "\n",
    "def hola():\n",
    "    print(\"Hola\")  \n",
    "\n",
    "def adios():\n",
    "    print(\"Adios\")\n",
    "saludo(hola)  #Cuando nosotros llamamos a saludo, saludo recibe la función que le pasamos como parametro entre paréntesis y la ejecuta.\n",
    "saludo(adios) "
   ]
  },
  {
   "cell_type": "markdown",
   "metadata": {},
   "source": [
    "Ejemplo de una lista de números aleatorios, y se hace una lista de los números impares, para este ejemplo se enseña con list comprenhensions, posteriormente con función de orden superior filter."
   ]
  },
  {
   "cell_type": "code",
   "execution_count": 2,
   "metadata": {},
   "outputs": [
    {
     "name": "stdout",
     "output_type": "stream",
     "text": [
      "[1, 5, 9, 13, 19, 21]\n"
     ]
    }
   ],
   "source": [
    "my_list = [1, 4, 5, 6, 9, 13, 19, 21]\n",
    "\n",
    "odd = [i for i in my_list if i % 2 != 0]\n",
    "\n",
    "print(odd)"
   ]
  },
  {
   "cell_type": "markdown",
   "metadata": {},
   "source": [
    "Solución con high order filter: tengo una labmda que recibe cada uno de los elementos de la lista, que es el segundo parametro de la función filter, y ese resultado se retorna en lista con la función list y se obtiene el resultado que se espera."
   ]
  },
  {
   "cell_type": "code",
   "execution_count": 3,
   "metadata": {},
   "outputs": [
    {
     "name": "stdout",
     "output_type": "stream",
     "text": [
      "[1, 5, 9, 13, 19, 21]\n"
     ]
    }
   ],
   "source": [
    "my_list = [1, 4, 5, 6, 9, 13, 19, 21]\n",
    "\n",
    "odd = list(filter(lambda x: x%2 !=0, my_list))\n",
    "\n",
    "print(odd)"
   ]
  },
  {
   "cell_type": "markdown",
   "metadata": {},
   "source": [
    "Función map, para este ejemplo se convierte la lista pero con los números elevados al cuadrado, esto se puede lograr con un for o listcomprenhension o la función map, sin embargo lo haremos primero con listcomprehension:"
   ]
  },
  {
   "cell_type": "code",
   "execution_count": 4,
   "metadata": {},
   "outputs": [
    {
     "name": "stdout",
     "output_type": "stream",
     "text": [
      "[1, 4, 9, 16, 25]\n"
     ]
    }
   ],
   "source": [
    "#Ejemplo con listcomprehension.\n",
    "\n",
    "my_list = [1, 2, 3, 4, 5]\n",
    "\n",
    "squares = [i**2 for i in my_list]\n",
    "\n",
    "print(squares)"
   ]
  },
  {
   "cell_type": "markdown",
   "metadata": {},
   "source": [
    "Solución del ejemplo con la función de orden superior map. La función lambda recibe un parametro X y lo que hace es retornar el resultado de X elevado al cuadrado x**2, y los va a guardar en una  nueva lista denominada squares."
   ]
  },
  {
   "cell_type": "code",
   "execution_count": 5,
   "metadata": {},
   "outputs": [
    {
     "name": "stdout",
     "output_type": "stream",
     "text": [
      "[1, 4, 9, 16, 25]\n"
     ]
    }
   ],
   "source": [
    "#uso con map\n",
    "my_list = [1, 2, 3, 4, 5]\n",
    "\n",
    "squares = list(map(lambda x: x**2, my_list))\n",
    "\n",
    "print(squares)"
   ]
  },
  {
   "cell_type": "markdown",
   "metadata": {},
   "source": [
    "Función de orden superior reduce: usaremos un ejemplo de una lista con números iguales repetidos, se obtendrá el resultado multiplicando todos los elemento, esto lo obtenemos con reduce, sin embargo lo haremos primero con un ciclo for."
   ]
  },
  {
   "cell_type": "code",
   "execution_count": 6,
   "metadata": {},
   "outputs": [
    {
     "name": "stdout",
     "output_type": "stream",
     "text": [
      "32\n"
     ]
    }
   ],
   "source": [
    "#usando ciclo for.\n",
    "\n",
    "my_list = [2, 2, 2, 2, 2]\n",
    "\n",
    "all_multiplied = 1\n",
    "\n",
    "for i in my_list:\n",
    "    all_multiplied = all_multiplied * i\n",
    "\n",
    "print(all_multiplied)"
   ]
  },
  {
   "cell_type": "markdown",
   "metadata": {},
   "source": [
    "Ahora continuaremos y realizaremos la solución con la función de orden superior REDUCE, para ello primero importamos la función reduce del módulo funtools."
   ]
  },
  {
   "cell_type": "markdown",
   "metadata": {},
   "source": [
    "Para este ejemplo lambda tiene dos parametros, a y b, y multiplica a y b como resultado, en la primera iteración, va a ser el primer elemento de nuestra lista, y el segundo elemento de nuestra lista, en la segunda iteración, el resultado de la primera iteración siendo a, se multiplicará con b, y así sucesivamente hasta terminar con cada elemento de la lista y da el resultado total de la multiplicación."
   ]
  },
  {
   "cell_type": "code",
   "execution_count": 7,
   "metadata": {},
   "outputs": [
    {
     "name": "stdout",
     "output_type": "stream",
     "text": [
      "32\n"
     ]
    }
   ],
   "source": [
    "from functools import reduce\n",
    "\n",
    "my_list = [2, 2, 2, 2, 2]\n",
    "\n",
    "all_multiplied = reduce(lambda a,b: a * b, my_list)\n",
    "\n",
    "print(all_multiplied)"
   ]
  },
  {
   "cell_type": "markdown",
   "metadata": {},
   "source": [
    "La diferencia entre filter y map:\n",
    "\n",
    "- filter devuelve True or False según el valor esté dentro de los criterios buscados o no. En caso de que no cumpla con la condición, no será devuelto y la lista se verá reducida por este filtro.\n",
    "- Map funciona muy parecido, pero su diferencia radica en que no puede eliminar valores de la lista del array entregado. Es decir, el output tiene la misma cantidad de valores que el input.\n",
    "Cómo funciona reduce:\n",
    "\n",
    "- Reduce toma 2 valores entregados como parámetros y el iterador como otro parámetro. Realiza la función con estos 2 valores, y luego con el resultado de esto y el valor que le sigue en el array. Y así hasta pasar por todos los valores de la lista."
   ]
  }
 ],
 "metadata": {
  "interpreter": {
   "hash": "1450c17c8c66d4d397d2acdd3c16d6e724a90b71f7743ddf11f0edda92b67585"
  },
  "kernelspec": {
   "display_name": "Python 3.9.12 ('myenv')",
   "language": "python",
   "name": "python3"
  },
  "language_info": {
   "codemirror_mode": {
    "name": "ipython",
    "version": 3
   },
   "file_extension": ".py",
   "mimetype": "text/x-python",
   "name": "python",
   "nbconvert_exporter": "python",
   "pygments_lexer": "ipython3",
   "version": "3.9.12"
  },
  "orig_nbformat": 4
 },
 "nbformat": 4,
 "nbformat_minor": 2
}
