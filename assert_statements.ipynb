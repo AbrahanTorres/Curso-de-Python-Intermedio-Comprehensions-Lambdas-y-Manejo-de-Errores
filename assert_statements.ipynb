{
 "cells": [
  {
   "cell_type": "markdown",
   "metadata": {},
   "source": [
    "Assert statements.\n",
    "\n",
    "La estructura de un assert es\n",
    "\n",
    "assert condición, mensaje de error #afirmo que esta condición es verdadera, sino imprimo el siguiente mensaje de error.\n"
   ]
  },
  {
   "cell_type": "code",
   "execution_count": 1,
   "metadata": {},
   "outputs": [
    {
     "name": "stdout",
     "output_type": "stream",
     "text": [
      "True\n"
     ]
    }
   ],
   "source": [
    "def palindrome(string):\n",
    "    return string == string[::-1]\n",
    "\n",
    "print(palindrome(\"\")) #El string es vacío \"\" lo que es un problema."
   ]
  },
  {
   "cell_type": "markdown",
   "metadata": {},
   "source": [
    "En el siguiente ejemplo, se afirma que la longitud del string es mayor a cero, sino \"no se puede ingresar una cadena vacía\"."
   ]
  },
  {
   "cell_type": "code",
   "execution_count": 2,
   "metadata": {},
   "outputs": [
    {
     "ename": "AssertionError",
     "evalue": "No se puede ingresar una cadena vacía",
     "output_type": "error",
     "traceback": [
      "\u001b[0;31m---------------------------------------------------------------------------\u001b[0m",
      "\u001b[0;31mAssertionError\u001b[0m                            Traceback (most recent call last)",
      "\u001b[1;32m/home/abraham/curso_python_intermedio_comprehensions_lambdas_Y_manejodeErrores/proyecto_ejemplo/assert_statements.ipynb Cell 4'\u001b[0m in \u001b[0;36m<cell line: 5>\u001b[0;34m()\u001b[0m\n\u001b[1;32m      <a href='vscode-notebook-cell://wsl%2Bubuntu20.04lts/home/abraham/curso_python_intermedio_comprehensions_lambdas_Y_manejodeErrores/proyecto_ejemplo/assert_statements.ipynb#ch0000004vscode-remote?line=1'>2</a>\u001b[0m     \u001b[39massert\u001b[39;00m \u001b[39mlen\u001b[39m(string) \u001b[39m>\u001b[39m \u001b[39m0\u001b[39m, \u001b[39m\"\u001b[39m\u001b[39mNo se puede ingresar una cadena vacía\u001b[39m\u001b[39m\"\u001b[39m\n\u001b[1;32m      <a href='vscode-notebook-cell://wsl%2Bubuntu20.04lts/home/abraham/curso_python_intermedio_comprehensions_lambdas_Y_manejodeErrores/proyecto_ejemplo/assert_statements.ipynb#ch0000004vscode-remote?line=2'>3</a>\u001b[0m     \u001b[39mreturn\u001b[39;00m string \u001b[39m==\u001b[39m string[::\u001b[39m-\u001b[39m\u001b[39m1\u001b[39m]\n\u001b[0;32m----> <a href='vscode-notebook-cell://wsl%2Bubuntu20.04lts/home/abraham/curso_python_intermedio_comprehensions_lambdas_Y_manejodeErrores/proyecto_ejemplo/assert_statements.ipynb#ch0000004vscode-remote?line=4'>5</a>\u001b[0m \u001b[39mprint\u001b[39m(palindrome(\u001b[39m\"\u001b[39;49m\u001b[39m\"\u001b[39;49m))\n",
      "\u001b[1;32m/home/abraham/curso_python_intermedio_comprehensions_lambdas_Y_manejodeErrores/proyecto_ejemplo/assert_statements.ipynb Cell 4'\u001b[0m in \u001b[0;36mpalindrome\u001b[0;34m(string)\u001b[0m\n\u001b[1;32m      <a href='vscode-notebook-cell://wsl%2Bubuntu20.04lts/home/abraham/curso_python_intermedio_comprehensions_lambdas_Y_manejodeErrores/proyecto_ejemplo/assert_statements.ipynb#ch0000004vscode-remote?line=0'>1</a>\u001b[0m \u001b[39mdef\u001b[39;00m \u001b[39mpalindrome\u001b[39m(string):\n\u001b[0;32m----> <a href='vscode-notebook-cell://wsl%2Bubuntu20.04lts/home/abraham/curso_python_intermedio_comprehensions_lambdas_Y_manejodeErrores/proyecto_ejemplo/assert_statements.ipynb#ch0000004vscode-remote?line=1'>2</a>\u001b[0m     \u001b[39massert\u001b[39;00m \u001b[39mlen\u001b[39m(string) \u001b[39m>\u001b[39m \u001b[39m0\u001b[39m, \u001b[39m\"\u001b[39m\u001b[39mNo se puede ingresar una cadena vacía\u001b[39m\u001b[39m\"\u001b[39m\n\u001b[1;32m      <a href='vscode-notebook-cell://wsl%2Bubuntu20.04lts/home/abraham/curso_python_intermedio_comprehensions_lambdas_Y_manejodeErrores/proyecto_ejemplo/assert_statements.ipynb#ch0000004vscode-remote?line=2'>3</a>\u001b[0m     \u001b[39mreturn\u001b[39;00m string \u001b[39m==\u001b[39m string[::\u001b[39m-\u001b[39m\u001b[39m1\u001b[39m]\n",
      "\u001b[0;31mAssertionError\u001b[0m: No se puede ingresar una cadena vacía"
     ]
    }
   ],
   "source": [
    "def palindrome(string):\n",
    "    assert len(string) > 0, \"No se puede ingresar una cadena vacía\"\n",
    "    return string == string[::-1]\n",
    "\n",
    "print(palindrome(\"\"))"
   ]
  },
  {
   "cell_type": "markdown",
   "metadata": {},
   "source": [
    "En el siguiente ejemplo se desarrolla un ejemplo, que resolveremos con assert statement."
   ]
  },
  {
   "cell_type": "code",
   "execution_count": 3,
   "metadata": {},
   "outputs": [
    {
     "ename": "AssertionError",
     "evalue": "Debes ingresar un número",
     "output_type": "error",
     "traceback": [
      "\u001b[0;31m---------------------------------------------------------------------------\u001b[0m",
      "\u001b[0;31mAssertionError\u001b[0m                            Traceback (most recent call last)",
      "\u001b[1;32m/home/abraham/curso_python_intermedio_comprehensions_lambdas_Y_manejodeErrores/proyecto_ejemplo/assert_statements.ipynb Cell 6'\u001b[0m in \u001b[0;36m<cell line: 15>\u001b[0;34m()\u001b[0m\n\u001b[1;32m     <a href='vscode-notebook-cell://wsl%2Bubuntu20.04lts/home/abraham/curso_python_intermedio_comprehensions_lambdas_Y_manejodeErrores/proyecto_ejemplo/assert_statements.ipynb#ch0000007vscode-remote?line=12'>13</a>\u001b[0m     \u001b[39mprint\u001b[39m(\u001b[39m\"\u001b[39m\u001b[39mTerminó mi programa\u001b[39m\u001b[39m\"\u001b[39m)\n\u001b[1;32m     <a href='vscode-notebook-cell://wsl%2Bubuntu20.04lts/home/abraham/curso_python_intermedio_comprehensions_lambdas_Y_manejodeErrores/proyecto_ejemplo/assert_statements.ipynb#ch0000007vscode-remote?line=14'>15</a>\u001b[0m \u001b[39mif\u001b[39;00m \u001b[39m__name__\u001b[39m \u001b[39m==\u001b[39m \u001b[39m\"\u001b[39m\u001b[39m__main__\u001b[39m\u001b[39m\"\u001b[39m:\n\u001b[0;32m---> <a href='vscode-notebook-cell://wsl%2Bubuntu20.04lts/home/abraham/curso_python_intermedio_comprehensions_lambdas_Y_manejodeErrores/proyecto_ejemplo/assert_statements.ipynb#ch0000007vscode-remote?line=15'>16</a>\u001b[0m     run()\n",
      "\u001b[1;32m/home/abraham/curso_python_intermedio_comprehensions_lambdas_Y_manejodeErrores/proyecto_ejemplo/assert_statements.ipynb Cell 6'\u001b[0m in \u001b[0;36mrun\u001b[0;34m()\u001b[0m\n\u001b[1;32m      <a href='vscode-notebook-cell://wsl%2Bubuntu20.04lts/home/abraham/curso_python_intermedio_comprehensions_lambdas_Y_manejodeErrores/proyecto_ejemplo/assert_statements.ipynb#ch0000007vscode-remote?line=8'>9</a>\u001b[0m \u001b[39mdef\u001b[39;00m \u001b[39mrun\u001b[39m():\n\u001b[1;32m     <a href='vscode-notebook-cell://wsl%2Bubuntu20.04lts/home/abraham/curso_python_intermedio_comprehensions_lambdas_Y_manejodeErrores/proyecto_ejemplo/assert_statements.ipynb#ch0000007vscode-remote?line=9'>10</a>\u001b[0m     num \u001b[39m=\u001b[39m \u001b[39minput\u001b[39m(\u001b[39m\"\u001b[39m\u001b[39mIngresa un número:  \u001b[39m\u001b[39m\"\u001b[39m)\n\u001b[0;32m---> <a href='vscode-notebook-cell://wsl%2Bubuntu20.04lts/home/abraham/curso_python_intermedio_comprehensions_lambdas_Y_manejodeErrores/proyecto_ejemplo/assert_statements.ipynb#ch0000007vscode-remote?line=10'>11</a>\u001b[0m     \u001b[39massert\u001b[39;00m num\u001b[39m.\u001b[39misnumeric(), \u001b[39m\"\u001b[39m\u001b[39mDebes ingresar un número\u001b[39m\u001b[39m\"\u001b[39m \u001b[39m# .isnumeric es un assert especial de los strings para controlar que el dato ingresado sea un número.\u001b[39;00m\n\u001b[1;32m     <a href='vscode-notebook-cell://wsl%2Bubuntu20.04lts/home/abraham/curso_python_intermedio_comprehensions_lambdas_Y_manejodeErrores/proyecto_ejemplo/assert_statements.ipynb#ch0000007vscode-remote?line=11'>12</a>\u001b[0m     \u001b[39mprint\u001b[39m(divisors(num))\n\u001b[1;32m     <a href='vscode-notebook-cell://wsl%2Bubuntu20.04lts/home/abraham/curso_python_intermedio_comprehensions_lambdas_Y_manejodeErrores/proyecto_ejemplo/assert_statements.ipynb#ch0000007vscode-remote?line=12'>13</a>\u001b[0m     \u001b[39mprint\u001b[39m(\u001b[39m\"\u001b[39m\u001b[39mTerminó mi programa\u001b[39m\u001b[39m\"\u001b[39m)\n",
      "\u001b[0;31mAssertionError\u001b[0m: Debes ingresar un número"
     ]
    }
   ],
   "source": [
    "def divisors(num):\n",
    "    divisors = []\n",
    "    for i in range(1, num + 1):\n",
    "        if num % i == 0:\n",
    "            divisors.append(i)\n",
    "    return divisors\n",
    "\n",
    "\n",
    "def run():\n",
    "    num = input(\"Ingresa un número:  \")\n",
    "    assert num.isnumeric(), \"Debes ingresar un número\" # .isnumeric es un assert especial de los strings para controlar que el dato ingresado sea un número.\n",
    "    print(divisors(num))\n",
    "    print(\"Terminó mi programa\")\n",
    "\n",
    "if __name__ == \"__main__\":\n",
    "    run()"
   ]
  },
  {
   "cell_type": "markdown",
   "metadata": {},
   "source": [
    "Ahora se procede con el reto, para utilizar el assert statement para no permitir números negativos."
   ]
  },
  {
   "cell_type": "code",
   "execution_count": 4,
   "metadata": {},
   "outputs": [
    {
     "ename": "AssertionError",
     "evalue": "Debes ingresar un número positivo",
     "output_type": "error",
     "traceback": [
      "\u001b[0;31m---------------------------------------------------------------------------\u001b[0m",
      "\u001b[0;31mAssertionError\u001b[0m                            Traceback (most recent call last)",
      "\u001b[1;32m/home/abraham/curso_python_intermedio_comprehensions_lambdas_Y_manejodeErrores/proyecto_ejemplo/assert_statements.ipynb Cell 8'\u001b[0m in \u001b[0;36m<cell line: 15>\u001b[0;34m()\u001b[0m\n\u001b[1;32m     <a href='vscode-notebook-cell://wsl%2Bubuntu20.04lts/home/abraham/curso_python_intermedio_comprehensions_lambdas_Y_manejodeErrores/proyecto_ejemplo/assert_statements.ipynb#ch0000009vscode-remote?line=12'>13</a>\u001b[0m     \u001b[39mprint\u001b[39m(\u001b[39m\"\u001b[39m\u001b[39mTerminó mi programa\u001b[39m\u001b[39m\"\u001b[39m)\n\u001b[1;32m     <a href='vscode-notebook-cell://wsl%2Bubuntu20.04lts/home/abraham/curso_python_intermedio_comprehensions_lambdas_Y_manejodeErrores/proyecto_ejemplo/assert_statements.ipynb#ch0000009vscode-remote?line=14'>15</a>\u001b[0m \u001b[39mif\u001b[39;00m \u001b[39m__name__\u001b[39m \u001b[39m==\u001b[39m \u001b[39m\"\u001b[39m\u001b[39m__main__\u001b[39m\u001b[39m\"\u001b[39m:\n\u001b[0;32m---> <a href='vscode-notebook-cell://wsl%2Bubuntu20.04lts/home/abraham/curso_python_intermedio_comprehensions_lambdas_Y_manejodeErrores/proyecto_ejemplo/assert_statements.ipynb#ch0000009vscode-remote?line=15'>16</a>\u001b[0m     run()\n",
      "\u001b[1;32m/home/abraham/curso_python_intermedio_comprehensions_lambdas_Y_manejodeErrores/proyecto_ejemplo/assert_statements.ipynb Cell 8'\u001b[0m in \u001b[0;36mrun\u001b[0;34m()\u001b[0m\n\u001b[1;32m     <a href='vscode-notebook-cell://wsl%2Bubuntu20.04lts/home/abraham/curso_python_intermedio_comprehensions_lambdas_Y_manejodeErrores/proyecto_ejemplo/assert_statements.ipynb#ch0000009vscode-remote?line=9'>10</a>\u001b[0m num \u001b[39m=\u001b[39m \u001b[39minput\u001b[39m(\u001b[39m\"\u001b[39m\u001b[39mIngresa un número: \u001b[39m\u001b[39m\"\u001b[39m)\n\u001b[1;32m     <a href='vscode-notebook-cell://wsl%2Bubuntu20.04lts/home/abraham/curso_python_intermedio_comprehensions_lambdas_Y_manejodeErrores/proyecto_ejemplo/assert_statements.ipynb#ch0000009vscode-remote?line=10'>11</a>\u001b[0m \u001b[39massert\u001b[39;00m num\u001b[39m.\u001b[39mreplace(\u001b[39m\"\u001b[39m\u001b[39m-\u001b[39m\u001b[39m\"\u001b[39m, \u001b[39m\"\u001b[39m\u001b[39m\"\u001b[39m)\u001b[39m.\u001b[39misnumeric(), \u001b[39m\"\u001b[39m\u001b[39mDebes ingresar un número\u001b[39m\u001b[39m\"\u001b[39m\n\u001b[0;32m---> <a href='vscode-notebook-cell://wsl%2Bubuntu20.04lts/home/abraham/curso_python_intermedio_comprehensions_lambdas_Y_manejodeErrores/proyecto_ejemplo/assert_statements.ipynb#ch0000009vscode-remote?line=11'>12</a>\u001b[0m \u001b[39mprint\u001b[39m(divisors(\u001b[39mint\u001b[39;49m(num)))\n\u001b[1;32m     <a href='vscode-notebook-cell://wsl%2Bubuntu20.04lts/home/abraham/curso_python_intermedio_comprehensions_lambdas_Y_manejodeErrores/proyecto_ejemplo/assert_statements.ipynb#ch0000009vscode-remote?line=12'>13</a>\u001b[0m \u001b[39mprint\u001b[39m(\u001b[39m\"\u001b[39m\u001b[39mTerminó mi programa\u001b[39m\u001b[39m\"\u001b[39m)\n",
      "\u001b[1;32m/home/abraham/curso_python_intermedio_comprehensions_lambdas_Y_manejodeErrores/proyecto_ejemplo/assert_statements.ipynb Cell 8'\u001b[0m in \u001b[0;36mdivisors\u001b[0;34m(num)\u001b[0m\n\u001b[1;32m      <a href='vscode-notebook-cell://wsl%2Bubuntu20.04lts/home/abraham/curso_python_intermedio_comprehensions_lambdas_Y_manejodeErrores/proyecto_ejemplo/assert_statements.ipynb#ch0000009vscode-remote?line=0'>1</a>\u001b[0m \u001b[39mdef\u001b[39;00m \u001b[39mdivisors\u001b[39m(num):\n\u001b[0;32m----> <a href='vscode-notebook-cell://wsl%2Bubuntu20.04lts/home/abraham/curso_python_intermedio_comprehensions_lambdas_Y_manejodeErrores/proyecto_ejemplo/assert_statements.ipynb#ch0000009vscode-remote?line=1'>2</a>\u001b[0m     \u001b[39massert\u001b[39;00m num \u001b[39m>\u001b[39m\u001b[39m=\u001b[39m \u001b[39m0\u001b[39m, \u001b[39m\"\u001b[39m\u001b[39mDebes ingresar un número positivo\u001b[39m\u001b[39m\"\u001b[39m\n\u001b[1;32m      <a href='vscode-notebook-cell://wsl%2Bubuntu20.04lts/home/abraham/curso_python_intermedio_comprehensions_lambdas_Y_manejodeErrores/proyecto_ejemplo/assert_statements.ipynb#ch0000009vscode-remote?line=2'>3</a>\u001b[0m     divisors \u001b[39m=\u001b[39m []\n\u001b[1;32m      <a href='vscode-notebook-cell://wsl%2Bubuntu20.04lts/home/abraham/curso_python_intermedio_comprehensions_lambdas_Y_manejodeErrores/proyecto_ejemplo/assert_statements.ipynb#ch0000009vscode-remote?line=3'>4</a>\u001b[0m     \u001b[39mfor\u001b[39;00m i \u001b[39min\u001b[39;00m \u001b[39mrange\u001b[39m(\u001b[39m1\u001b[39m, num \u001b[39m+\u001b[39m\u001b[39m1\u001b[39m):\n",
      "\u001b[0;31mAssertionError\u001b[0m: Debes ingresar un número positivo"
     ]
    }
   ],
   "source": [
    "def divisors(num):\n",
    "    assert num >= 0, \"Debes ingresar un número positivo\"\n",
    "    divisors = []\n",
    "    for i in range(1, num +1):\n",
    "        if num % i == 0:\n",
    "            divisors.append(i)\n",
    "    return divisors\n",
    "\n",
    "def run():\n",
    "    num = input(\"Ingresa un número: \")\n",
    "    assert num.replace(\"-\", \"\").isnumeric(), \"Debes ingresar un número\"\n",
    "    print(divisors(int(num)))\n",
    "    print(\"Terminó mi programa\")\n",
    "\n",
    "if __name__ == \"__main__\":\n",
    "    run()"
   ]
  }
 ],
 "metadata": {
  "interpreter": {
   "hash": "1450c17c8c66d4d397d2acdd3c16d6e724a90b71f7743ddf11f0edda92b67585"
  },
  "kernelspec": {
   "display_name": "Python 3.9.12 ('myenv')",
   "language": "python",
   "name": "python3"
  },
  "language_info": {
   "codemirror_mode": {
    "name": "ipython",
    "version": 3
   },
   "file_extension": ".py",
   "mimetype": "text/x-python",
   "name": "python",
   "nbconvert_exporter": "python",
   "pygments_lexer": "ipython3",
   "version": "3.9.12"
  },
  "orig_nbformat": 4
 },
 "nbformat": 4,
 "nbformat_minor": 2
}
